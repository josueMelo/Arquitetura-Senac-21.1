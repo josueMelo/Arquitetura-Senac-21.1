{
  "nbformat": 4,
  "nbformat_minor": 0,
  "metadata": {
    "kernelspec": {
      "display_name": "Python 3",
      "language": "python",
      "name": "python3"
    },
    "language_info": {
      "codemirror_mode": {
        "name": "ipython",
        "version": 3
      },
      "file_extension": ".py",
      "mimetype": "text/x-python",
      "name": "python",
      "nbconvert_exporter": "python",
      "pygments_lexer": "ipython3",
      "version": "3.8.2"
    },
    "colab": {
      "name": "seriestemporais.ipynb",
      "provenance": [],
      "collapsed_sections": []
    }
  },
  "cells": [
    {
      "cell_type": "markdown",
      "metadata": {
        "id": "CJca149gXqbr"
      },
      "source": [
        "# O conjunto de Mandelbrot"
      ]
    },
    {
      "cell_type": "markdown",
      "metadata": {
        "id": "M-M0Zt4qXqb2"
      },
      "source": [
        "*** \n",
        "O conjunto de Mandelbrot é um fractal definido como o conjunto de pontos *c* no plano complexo para o qual a sequência é definida recursivamente:\n",
        "\n",
        "**z0 = 0**\n",
        "\n",
        "**zk + 1 = z2k + c**\n",
        "***"
      ]
    }
  ]
}